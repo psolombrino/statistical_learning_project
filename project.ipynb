{
 "cells": [
  {
   "cell_type": "code",
   "execution_count": 50,
   "metadata": {
    "tags": []
   },
   "outputs": [],
   "source": [
    "import pandas as pd\n",
    "import numpy as np\n",
    "import tensorflow as tf\n",
    "from math import sqrt\n",
    "from math import pi\n",
    "from math import exp\n",
    "\n",
    "import matplotlib.pyplot as plt\n",
    "import seaborn as sns\n",
    "\n",
    "import datetime\n",
    "import graphviz\n",
    "import pydot\n",
    "\n",
    "from sklearn.impute import KNNImputer\n",
    "from sklearn.metrics import accuracy_score\n",
    "from sklearn.model_selection import train_test_split\n",
    "from sklearn.svm import SVC\n",
    "from sklearn.tree import DecisionTreeClassifier\n",
    "from sklearn.tree import export_graphviz\n",
    "\n",
    "if tf.__version__.startswith(\"2.\"):\n",
    "    import tensorflow.compat.v1 as tf\n",
    "    tf.compat.v1.disable_v2_behavior()\n",
    "    tf.compat.v1.disable_eager_execution()"
   ]
  },
  {
   "cell_type": "code",
   "execution_count": 51,
   "metadata": {},
   "outputs": [
    {
     "output_type": "execute_result",
     "data": {
      "text/plain": "    Age  passenger_class  passenger_sex  passenger_survived\n0  22.0                0              0                   0\n1  38.0                2              1                   1\n2  26.0                0              1                   1\n3  35.0                2              1                   1\n4  35.0                0              0                   0",
      "text/html": "<div>\n<style scoped>\n    .dataframe tbody tr th:only-of-type {\n        vertical-align: middle;\n    }\n\n    .dataframe tbody tr th {\n        vertical-align: top;\n    }\n\n    .dataframe thead th {\n        text-align: right;\n    }\n</style>\n<table border=\"1\" class=\"dataframe\">\n  <thead>\n    <tr style=\"text-align: right;\">\n      <th></th>\n      <th>Age</th>\n      <th>passenger_class</th>\n      <th>passenger_sex</th>\n      <th>passenger_survived</th>\n    </tr>\n  </thead>\n  <tbody>\n    <tr>\n      <th>0</th>\n      <td>22.0</td>\n      <td>0</td>\n      <td>0</td>\n      <td>0</td>\n    </tr>\n    <tr>\n      <th>1</th>\n      <td>38.0</td>\n      <td>2</td>\n      <td>1</td>\n      <td>1</td>\n    </tr>\n    <tr>\n      <th>2</th>\n      <td>26.0</td>\n      <td>0</td>\n      <td>1</td>\n      <td>1</td>\n    </tr>\n    <tr>\n      <th>3</th>\n      <td>35.0</td>\n      <td>2</td>\n      <td>1</td>\n      <td>1</td>\n    </tr>\n    <tr>\n      <th>4</th>\n      <td>35.0</td>\n      <td>0</td>\n      <td>0</td>\n      <td>0</td>\n    </tr>\n  </tbody>\n</table>\n</div>"
     },
     "metadata": {},
     "execution_count": 51
    }
   ],
   "source": [
    "dfTitanic = pd.read_csv('data_titanic_proyecto.csv')\n",
    "dfTitanic = dfTitanic.drop([\"PassengerId\", \"Name\", \"Cabin\", \"SibSp\", \"Parch\", \"Ticket\", \"Fare\", \"Cabin\", \"Embarked\"], axis = 1)\n",
    "\n",
    "dfTitanic[\"passenger_sex\"] = dfTitanic[\"passenger_sex\"].map({'M': 0, 'F': 1}).astype(int)\n",
    "dfTitanic[\"passenger_survived\"] = dfTitanic[\"passenger_survived\"].map({'N': 0, 'Y': 1}).astype(int)\n",
    "dfTitanic[\"passenger_class\"] = dfTitanic[\"passenger_class\"].map( {'Lower': 0, 'Middle': 1,'Upper':2}).astype(int)\n",
    "\n",
    "dfTitanic.head()"
   ]
  },
  {
   "cell_type": "code",
   "execution_count": 52,
   "metadata": {
    "tags": []
   },
   "outputs": [],
   "source": [
    "imputer = KNNImputer()\n",
    "dfTitanicFilled = imputer.fit_transform(dfTitanic)\n",
    "dfTitanic[\"Age\"] = dfTitanicFilled[:,0]\n",
    "\n",
    "# dfTitanic.loc[dfTitanic['Age'] <= 5, 'Age'] = 0\n",
    "# dfTitanic.loc[(dfTitanic['Age'] > 5) & (dfTitanic['Age'] <= 10), 'Age'] = 1\n",
    "# dfTitanic.loc[(dfTitanic['Age'] > 10) & (dfTitanic['Age'] <= 15), 'Age'] = 2\n",
    "# dfTitanic.loc[(dfTitanic['Age'] > 15) & (dfTitanic['Age'] <= 20), 'Age'] = 3\n",
    "# dfTitanic.loc[(dfTitanic['Age'] > 20) & (dfTitanic['Age'] <= 25), 'Age'] = 4\n",
    "# dfTitanic.loc[(dfTitanic['Age'] > 25) & (dfTitanic['Age'] <= 30), 'Age'] = 5\n",
    "# dfTitanic.loc[(dfTitanic['Age'] > 30) & (dfTitanic['Age'] <= 35), 'Age'] = 7\n",
    "# dfTitanic.loc[(dfTitanic['Age'] > 35) & (dfTitanic['Age'] <= 40), 'Age'] = 8\n",
    "# dfTitanic.loc[(dfTitanic['Age'] > 40) & (dfTitanic['Age'] <= 45), 'Age'] = 8\n",
    "# dfTitanic.loc[(dfTitanic['Age'] > 45) & (dfTitanic['Age'] <= 50), 'Age'] = 9\n",
    "# dfTitanic.loc[ dfTitanic['Age'] > 50, 'Age'] = 10"
   ]
  },
  {
   "cell_type": "code",
   "execution_count": 53,
   "metadata": {},
   "outputs": [],
   "source": [
    "trainData, testData = train_test_split(dfTitanic, test_size = 0.2)\n",
    "trainData, validationData = train_test_split(trainData, test_size = 0.2)"
   ]
  },
  {
   "cell_type": "markdown",
   "metadata": {},
   "source": [
    "## Feature Engineering "
   ]
  },
  {
   "cell_type": "code",
   "execution_count": 54,
   "metadata": {},
   "outputs": [
    {
     "output_type": "execute_result",
     "data": {
      "text/plain": "        Age  passenger_class  passenger_sex  passenger_survived\n0 -0.148023         0.339796       0.528803                 1.0",
      "text/html": "<div>\n<style scoped>\n    .dataframe tbody tr th:only-of-type {\n        vertical-align: middle;\n    }\n\n    .dataframe tbody tr th {\n        vertical-align: top;\n    }\n\n    .dataframe thead th {\n        text-align: right;\n    }\n</style>\n<table border=\"1\" class=\"dataframe\">\n  <thead>\n    <tr style=\"text-align: right;\">\n      <th></th>\n      <th>Age</th>\n      <th>passenger_class</th>\n      <th>passenger_sex</th>\n      <th>passenger_survived</th>\n    </tr>\n  </thead>\n  <tbody>\n    <tr>\n      <th>0</th>\n      <td>-0.148023</td>\n      <td>0.339796</td>\n      <td>0.528803</td>\n      <td>1.0</td>\n    </tr>\n  </tbody>\n</table>\n</div>"
     },
     "metadata": {},
     "execution_count": 54
    },
    {
     "output_type": "display_data",
     "data": {
      "text/plain": "<Figure size 1152x576 with 2 Axes>",
      "image/svg+xml": "<?xml version=\"1.0\" encoding=\"utf-8\" standalone=\"no\"?>\n<!DOCTYPE svg PUBLIC \"-//W3C//DTD SVG 1.1//EN\"\n  \"http://www.w3.org/Graphics/SVG/1.1/DTD/svg11.dtd\">\n<!-- Created with matplotlib (https://matplotlib.org/) -->\n<svg height=\"494.693438pt\" version=\"1.1\" viewBox=\"0 0 834.883375 494.693438\" width=\"834.883375pt\" xmlns=\"http://www.w3.org/2000/svg\" xmlns:xlink=\"http://www.w3.org/1999/xlink\">\n <defs>\n  <style type=\"text/css\">\n*{stroke-linecap:butt;stroke-linejoin:round;}\n  </style>\n </defs>\n <g id=\"figure_1\">\n  <g id=\"patch_1\">\n   <path d=\"M 0 494.693438 \nL 834.883375 494.693438 \nL 834.883375 0 \nL 0 0 \nz\n\" style=\"fill:none;\"/>\n  </g>\n  <g id=\"axes_1\">\n   <g id=\"patch_2\">\n    <path d=\"M 24.15625 445.879219 \nL 738.39625 445.879219 \nL 738.39625 10.999219 \nL 24.15625 10.999219 \nz\n\" style=\"fill:#ffffff;\"/>\n   </g>\n   <g id=\"QuadMesh_1\">\n    <path clip-path=\"url(#p00ce3af9e1)\" d=\"M 24.15625 10.999219 \nL 202.71625 10.999219 \nL 202.71625 119.719219 \nL 24.15625 119.719219 \nL 24.15625 10.999219 \n\" style=\"fill:#67000d;\"/>\n    <path clip-path=\"url(#p00ce3af9e1)\" d=\"M 202.71625 10.999219 \nL 381.27625 10.999219 \nL 381.27625 119.719219 \nL 202.71625 119.719219 \nL 202.71625 10.999219 \n\" style=\"fill:#fb7656;\"/>\n    <path clip-path=\"url(#p00ce3af9e1)\" d=\"M 381.27625 10.999219 \nL 559.83625 10.999219 \nL 559.83625 119.719219 \nL 381.27625 119.719219 \nL 381.27625 10.999219 \n\" style=\"fill:#fff4ef;\"/>\n    <path clip-path=\"url(#p00ce3af9e1)\" d=\"M 559.83625 10.999219 \nL 738.39625 10.999219 \nL 738.39625 119.719219 \nL 559.83625 119.719219 \nL 559.83625 10.999219 \n\" style=\"fill:#fff5f0;\"/>\n    <path clip-path=\"url(#p00ce3af9e1)\" d=\"M 24.15625 119.719219 \nL 202.71625 119.719219 \nL 202.71625 228.439219 \nL 24.15625 228.439219 \nL 24.15625 119.719219 \n\" style=\"fill:#fb7656;\"/>\n    <path clip-path=\"url(#p00ce3af9e1)\" d=\"M 202.71625 119.719219 \nL 381.27625 119.719219 \nL 381.27625 228.439219 \nL 202.71625 228.439219 \nL 202.71625 119.719219 \n\" style=\"fill:#67000d;\"/>\n    <path clip-path=\"url(#p00ce3af9e1)\" d=\"M 381.27625 119.719219 \nL 559.83625 119.719219 \nL 559.83625 228.439219 \nL 381.27625 228.439219 \nL 381.27625 119.719219 \n\" style=\"fill:#fdccb8;\"/>\n    <path clip-path=\"url(#p00ce3af9e1)\" d=\"M 559.83625 119.719219 \nL 738.39625 119.719219 \nL 738.39625 228.439219 \nL 559.83625 228.439219 \nL 559.83625 119.719219 \n\" style=\"fill:#fc8262;\"/>\n    <path clip-path=\"url(#p00ce3af9e1)\" d=\"M 24.15625 228.439219 \nL 202.71625 228.439219 \nL 202.71625 337.159219 \nL 24.15625 337.159219 \nL 24.15625 228.439219 \n\" style=\"fill:#fff4ef;\"/>\n    <path clip-path=\"url(#p00ce3af9e1)\" d=\"M 202.71625 228.439219 \nL 381.27625 228.439219 \nL 381.27625 337.159219 \nL 202.71625 337.159219 \nL 202.71625 228.439219 \n\" style=\"fill:#fdccb8;\"/>\n    <path clip-path=\"url(#p00ce3af9e1)\" d=\"M 381.27625 228.439219 \nL 559.83625 228.439219 \nL 559.83625 337.159219 \nL 381.27625 337.159219 \nL 381.27625 228.439219 \n\" style=\"fill:#67000d;\"/>\n    <path clip-path=\"url(#p00ce3af9e1)\" d=\"M 559.83625 228.439219 \nL 738.39625 228.439219 \nL 738.39625 337.159219 \nL 559.83625 337.159219 \nL 559.83625 228.439219 \n\" style=\"fill:#f34935;\"/>\n    <path clip-path=\"url(#p00ce3af9e1)\" d=\"M 24.15625 337.159219 \nL 202.71625 337.159219 \nL 202.71625 445.879219 \nL 24.15625 445.879219 \nL 24.15625 337.159219 \n\" style=\"fill:#fff5f0;\"/>\n    <path clip-path=\"url(#p00ce3af9e1)\" d=\"M 202.71625 337.159219 \nL 381.27625 337.159219 \nL 381.27625 445.879219 \nL 202.71625 445.879219 \nL 202.71625 337.159219 \n\" style=\"fill:#fc8262;\"/>\n    <path clip-path=\"url(#p00ce3af9e1)\" d=\"M 381.27625 337.159219 \nL 559.83625 337.159219 \nL 559.83625 445.879219 \nL 381.27625 445.879219 \nL 381.27625 337.159219 \n\" style=\"fill:#f34935;\"/>\n    <path clip-path=\"url(#p00ce3af9e1)\" d=\"M 559.83625 337.159219 \nL 738.39625 337.159219 \nL 738.39625 445.879219 \nL 559.83625 445.879219 \nL 559.83625 337.159219 \n\" style=\"fill:#67000d;\"/>\n   </g>\n   <g id=\"matplotlib.axis_1\">\n    <g id=\"xtick_1\">\n     <g id=\"line2d_1\">\n      <defs>\n       <path d=\"M 0 0 \nL 0 3.5 \n\" id=\"m6837b7c787\" style=\"stroke:#000000;stroke-width:0.8;\"/>\n      </defs>\n      <g>\n       <use style=\"stroke:#000000;stroke-width:0.8;\" x=\"113.43625\" xlink:href=\"#m6837b7c787\" y=\"445.879219\"/>\n      </g>\n     </g>\n     <g id=\"text_1\">\n      <!-- Age -->\n      <defs>\n       <path d=\"M 34.1875 63.1875 \nL 20.796875 26.90625 \nL 47.609375 26.90625 \nz\nM 28.609375 72.90625 \nL 39.796875 72.90625 \nL 67.578125 0 \nL 57.328125 0 \nL 50.6875 18.703125 \nL 17.828125 18.703125 \nL 11.1875 0 \nL 0.78125 0 \nz\n\" id=\"DejaVuSans-65\"/>\n       <path d=\"M 45.40625 27.984375 \nQ 45.40625 37.75 41.375 43.109375 \nQ 37.359375 48.484375 30.078125 48.484375 \nQ 22.859375 48.484375 18.828125 43.109375 \nQ 14.796875 37.75 14.796875 27.984375 \nQ 14.796875 18.265625 18.828125 12.890625 \nQ 22.859375 7.515625 30.078125 7.515625 \nQ 37.359375 7.515625 41.375 12.890625 \nQ 45.40625 18.265625 45.40625 27.984375 \nz\nM 54.390625 6.78125 \nQ 54.390625 -7.171875 48.1875 -13.984375 \nQ 42 -20.796875 29.203125 -20.796875 \nQ 24.46875 -20.796875 20.265625 -20.09375 \nQ 16.0625 -19.390625 12.109375 -17.921875 \nL 12.109375 -9.1875 \nQ 16.0625 -11.328125 19.921875 -12.34375 \nQ 23.78125 -13.375 27.78125 -13.375 \nQ 36.625 -13.375 41.015625 -8.765625 \nQ 45.40625 -4.15625 45.40625 5.171875 \nL 45.40625 9.625 \nQ 42.625 4.78125 38.28125 2.390625 \nQ 33.9375 0 27.875 0 \nQ 17.828125 0 11.671875 7.65625 \nQ 5.515625 15.328125 5.515625 27.984375 \nQ 5.515625 40.671875 11.671875 48.328125 \nQ 17.828125 56 27.875 56 \nQ 33.9375 56 38.28125 53.609375 \nQ 42.625 51.21875 45.40625 46.390625 \nL 45.40625 54.6875 \nL 54.390625 54.6875 \nz\n\" id=\"DejaVuSans-103\"/>\n       <path d=\"M 56.203125 29.59375 \nL 56.203125 25.203125 \nL 14.890625 25.203125 \nQ 15.484375 15.921875 20.484375 11.0625 \nQ 25.484375 6.203125 34.421875 6.203125 \nQ 39.59375 6.203125 44.453125 7.46875 \nQ 49.3125 8.734375 54.109375 11.28125 \nL 54.109375 2.78125 \nQ 49.265625 0.734375 44.1875 -0.34375 \nQ 39.109375 -1.421875 33.890625 -1.421875 \nQ 20.796875 -1.421875 13.15625 6.1875 \nQ 5.515625 13.8125 5.515625 26.8125 \nQ 5.515625 40.234375 12.765625 48.109375 \nQ 20.015625 56 32.328125 56 \nQ 43.359375 56 49.78125 48.890625 \nQ 56.203125 41.796875 56.203125 29.59375 \nz\nM 47.21875 32.234375 \nQ 47.125 39.59375 43.09375 43.984375 \nQ 39.0625 48.390625 32.421875 48.390625 \nQ 24.90625 48.390625 20.390625 44.140625 \nQ 15.875 39.890625 15.1875 32.171875 \nz\n\" id=\"DejaVuSans-101\"/>\n      </defs>\n      <g transform=\"translate(103.765156 460.477656)scale(0.1 -0.1)\">\n       <use xlink:href=\"#DejaVuSans-65\"/>\n       <use x=\"68.408203\" xlink:href=\"#DejaVuSans-103\"/>\n       <use x=\"131.884766\" xlink:href=\"#DejaVuSans-101\"/>\n      </g>\n     </g>\n    </g>\n    <g id=\"xtick_2\">\n     <g id=\"line2d_2\">\n      <g>\n       <use style=\"stroke:#000000;stroke-width:0.8;\" x=\"291.99625\" xlink:href=\"#m6837b7c787\" y=\"445.879219\"/>\n      </g>\n     </g>\n     <g id=\"text_2\">\n      <!-- passenger_class -->\n      <defs>\n       <path d=\"M 18.109375 8.203125 \nL 18.109375 -20.796875 \nL 9.078125 -20.796875 \nL 9.078125 54.6875 \nL 18.109375 54.6875 \nL 18.109375 46.390625 \nQ 20.953125 51.265625 25.265625 53.625 \nQ 29.59375 56 35.59375 56 \nQ 45.5625 56 51.78125 48.09375 \nQ 58.015625 40.1875 58.015625 27.296875 \nQ 58.015625 14.40625 51.78125 6.484375 \nQ 45.5625 -1.421875 35.59375 -1.421875 \nQ 29.59375 -1.421875 25.265625 0.953125 \nQ 20.953125 3.328125 18.109375 8.203125 \nz\nM 48.6875 27.296875 \nQ 48.6875 37.203125 44.609375 42.84375 \nQ 40.53125 48.484375 33.40625 48.484375 \nQ 26.265625 48.484375 22.1875 42.84375 \nQ 18.109375 37.203125 18.109375 27.296875 \nQ 18.109375 17.390625 22.1875 11.75 \nQ 26.265625 6.109375 33.40625 6.109375 \nQ 40.53125 6.109375 44.609375 11.75 \nQ 48.6875 17.390625 48.6875 27.296875 \nz\n\" id=\"DejaVuSans-112\"/>\n       <path d=\"M 34.28125 27.484375 \nQ 23.390625 27.484375 19.1875 25 \nQ 14.984375 22.515625 14.984375 16.5 \nQ 14.984375 11.71875 18.140625 8.90625 \nQ 21.296875 6.109375 26.703125 6.109375 \nQ 34.1875 6.109375 38.703125 11.40625 \nQ 43.21875 16.703125 43.21875 25.484375 \nL 43.21875 27.484375 \nz\nM 52.203125 31.203125 \nL 52.203125 0 \nL 43.21875 0 \nL 43.21875 8.296875 \nQ 40.140625 3.328125 35.546875 0.953125 \nQ 30.953125 -1.421875 24.3125 -1.421875 \nQ 15.921875 -1.421875 10.953125 3.296875 \nQ 6 8.015625 6 15.921875 \nQ 6 25.140625 12.171875 29.828125 \nQ 18.359375 34.515625 30.609375 34.515625 \nL 43.21875 34.515625 \nL 43.21875 35.40625 \nQ 43.21875 41.609375 39.140625 45 \nQ 35.0625 48.390625 27.6875 48.390625 \nQ 23 48.390625 18.546875 47.265625 \nQ 14.109375 46.140625 10.015625 43.890625 \nL 10.015625 52.203125 \nQ 14.9375 54.109375 19.578125 55.046875 \nQ 24.21875 56 28.609375 56 \nQ 40.484375 56 46.34375 49.84375 \nQ 52.203125 43.703125 52.203125 31.203125 \nz\n\" id=\"DejaVuSans-97\"/>\n       <path d=\"M 44.28125 53.078125 \nL 44.28125 44.578125 \nQ 40.484375 46.53125 36.375 47.5 \nQ 32.28125 48.484375 27.875 48.484375 \nQ 21.1875 48.484375 17.84375 46.4375 \nQ 14.5 44.390625 14.5 40.28125 \nQ 14.5 37.15625 16.890625 35.375 \nQ 19.28125 33.59375 26.515625 31.984375 \nL 29.59375 31.296875 \nQ 39.15625 29.25 43.1875 25.515625 \nQ 47.21875 21.78125 47.21875 15.09375 \nQ 47.21875 7.46875 41.1875 3.015625 \nQ 35.15625 -1.421875 24.609375 -1.421875 \nQ 20.21875 -1.421875 15.453125 -0.5625 \nQ 10.6875 0.296875 5.421875 2 \nL 5.421875 11.28125 \nQ 10.40625 8.6875 15.234375 7.390625 \nQ 20.0625 6.109375 24.8125 6.109375 \nQ 31.15625 6.109375 34.5625 8.28125 \nQ 37.984375 10.453125 37.984375 14.40625 \nQ 37.984375 18.0625 35.515625 20.015625 \nQ 33.0625 21.96875 24.703125 23.78125 \nL 21.578125 24.515625 \nQ 13.234375 26.265625 9.515625 29.90625 \nQ 5.8125 33.546875 5.8125 39.890625 \nQ 5.8125 47.609375 11.28125 51.796875 \nQ 16.75 56 26.8125 56 \nQ 31.78125 56 36.171875 55.265625 \nQ 40.578125 54.546875 44.28125 53.078125 \nz\n\" id=\"DejaVuSans-115\"/>\n       <path d=\"M 54.890625 33.015625 \nL 54.890625 0 \nL 45.90625 0 \nL 45.90625 32.71875 \nQ 45.90625 40.484375 42.875 44.328125 \nQ 39.84375 48.1875 33.796875 48.1875 \nQ 26.515625 48.1875 22.3125 43.546875 \nQ 18.109375 38.921875 18.109375 30.90625 \nL 18.109375 0 \nL 9.078125 0 \nL 9.078125 54.6875 \nL 18.109375 54.6875 \nL 18.109375 46.1875 \nQ 21.34375 51.125 25.703125 53.5625 \nQ 30.078125 56 35.796875 56 \nQ 45.21875 56 50.046875 50.171875 \nQ 54.890625 44.34375 54.890625 33.015625 \nz\n\" id=\"DejaVuSans-110\"/>\n       <path d=\"M 41.109375 46.296875 \nQ 39.59375 47.171875 37.8125 47.578125 \nQ 36.03125 48 33.890625 48 \nQ 26.265625 48 22.1875 43.046875 \nQ 18.109375 38.09375 18.109375 28.8125 \nL 18.109375 0 \nL 9.078125 0 \nL 9.078125 54.6875 \nL 18.109375 54.6875 \nL 18.109375 46.1875 \nQ 20.953125 51.171875 25.484375 53.578125 \nQ 30.03125 56 36.53125 56 \nQ 37.453125 56 38.578125 55.875 \nQ 39.703125 55.765625 41.0625 55.515625 \nz\n\" id=\"DejaVuSans-114\"/>\n       <path d=\"M 50.984375 -16.609375 \nL 50.984375 -23.578125 \nL -0.984375 -23.578125 \nL -0.984375 -16.609375 \nz\n\" id=\"DejaVuSans-95\"/>\n       <path d=\"M 48.78125 52.59375 \nL 48.78125 44.1875 \nQ 44.96875 46.296875 41.140625 47.34375 \nQ 37.3125 48.390625 33.40625 48.390625 \nQ 24.65625 48.390625 19.8125 42.84375 \nQ 14.984375 37.3125 14.984375 27.296875 \nQ 14.984375 17.28125 19.8125 11.734375 \nQ 24.65625 6.203125 33.40625 6.203125 \nQ 37.3125 6.203125 41.140625 7.25 \nQ 44.96875 8.296875 48.78125 10.40625 \nL 48.78125 2.09375 \nQ 45.015625 0.34375 40.984375 -0.53125 \nQ 36.96875 -1.421875 32.421875 -1.421875 \nQ 20.0625 -1.421875 12.78125 6.34375 \nQ 5.515625 14.109375 5.515625 27.296875 \nQ 5.515625 40.671875 12.859375 48.328125 \nQ 20.21875 56 33.015625 56 \nQ 37.15625 56 41.109375 55.140625 \nQ 45.0625 54.296875 48.78125 52.59375 \nz\n\" id=\"DejaVuSans-99\"/>\n       <path d=\"M 9.421875 75.984375 \nL 18.40625 75.984375 \nL 18.40625 0 \nL 9.421875 0 \nz\n\" id=\"DejaVuSans-108\"/>\n      </defs>\n      <g transform=\"translate(251.085313 460.477656)scale(0.1 -0.1)\">\n       <use xlink:href=\"#DejaVuSans-112\"/>\n       <use x=\"63.476562\" xlink:href=\"#DejaVuSans-97\"/>\n       <use x=\"124.755859\" xlink:href=\"#DejaVuSans-115\"/>\n       <use x=\"176.855469\" xlink:href=\"#DejaVuSans-115\"/>\n       <use x=\"228.955078\" xlink:href=\"#DejaVuSans-101\"/>\n       <use x=\"290.478516\" xlink:href=\"#DejaVuSans-110\"/>\n       <use x=\"353.857422\" xlink:href=\"#DejaVuSans-103\"/>\n       <use x=\"417.333984\" xlink:href=\"#DejaVuSans-101\"/>\n       <use x=\"478.857422\" xlink:href=\"#DejaVuSans-114\"/>\n       <use x=\"519.970703\" xlink:href=\"#DejaVuSans-95\"/>\n       <use x=\"569.970703\" xlink:href=\"#DejaVuSans-99\"/>\n       <use x=\"624.951172\" xlink:href=\"#DejaVuSans-108\"/>\n       <use x=\"652.734375\" xlink:href=\"#DejaVuSans-97\"/>\n       <use x=\"714.013672\" xlink:href=\"#DejaVuSans-115\"/>\n       <use x=\"766.113281\" xlink:href=\"#DejaVuSans-115\"/>\n      </g>\n     </g>\n    </g>\n    <g id=\"xtick_3\">\n     <g id=\"line2d_3\">\n      <g>\n       <use style=\"stroke:#000000;stroke-width:0.8;\" x=\"470.55625\" xlink:href=\"#m6837b7c787\" y=\"445.879219\"/>\n      </g>\n     </g>\n     <g id=\"text_3\">\n      <!-- passenger_sex -->\n      <defs>\n       <path d=\"M 54.890625 54.6875 \nL 35.109375 28.078125 \nL 55.90625 0 \nL 45.3125 0 \nL 29.390625 21.484375 \nL 13.484375 0 \nL 2.875 0 \nL 24.125 28.609375 \nL 4.6875 54.6875 \nL 15.28125 54.6875 \nL 29.78125 35.203125 \nL 44.28125 54.6875 \nz\n\" id=\"DejaVuSans-120\"/>\n      </defs>\n      <g transform=\"translate(433.503906 460.199531)scale(0.1 -0.1)\">\n       <use xlink:href=\"#DejaVuSans-112\"/>\n       <use x=\"63.476562\" xlink:href=\"#DejaVuSans-97\"/>\n       <use x=\"124.755859\" xlink:href=\"#DejaVuSans-115\"/>\n       <use x=\"176.855469\" xlink:href=\"#DejaVuSans-115\"/>\n       <use x=\"228.955078\" xlink:href=\"#DejaVuSans-101\"/>\n       <use x=\"290.478516\" xlink:href=\"#DejaVuSans-110\"/>\n       <use x=\"353.857422\" xlink:href=\"#DejaVuSans-103\"/>\n       <use x=\"417.333984\" xlink:href=\"#DejaVuSans-101\"/>\n       <use x=\"478.857422\" xlink:href=\"#DejaVuSans-114\"/>\n       <use x=\"519.970703\" xlink:href=\"#DejaVuSans-95\"/>\n       <use x=\"569.970703\" xlink:href=\"#DejaVuSans-115\"/>\n       <use x=\"622.070312\" xlink:href=\"#DejaVuSans-101\"/>\n       <use x=\"681.84375\" xlink:href=\"#DejaVuSans-120\"/>\n      </g>\n     </g>\n    </g>\n    <g id=\"xtick_4\">\n     <g id=\"line2d_4\">\n      <g>\n       <use style=\"stroke:#000000;stroke-width:0.8;\" x=\"649.11625\" xlink:href=\"#m6837b7c787\" y=\"445.879219\"/>\n      </g>\n     </g>\n     <g id=\"text_4\">\n      <!-- passenger_survived -->\n      <defs>\n       <path d=\"M 8.5 21.578125 \nL 8.5 54.6875 \nL 17.484375 54.6875 \nL 17.484375 21.921875 \nQ 17.484375 14.15625 20.5 10.265625 \nQ 23.53125 6.390625 29.59375 6.390625 \nQ 36.859375 6.390625 41.078125 11.03125 \nQ 45.3125 15.671875 45.3125 23.6875 \nL 45.3125 54.6875 \nL 54.296875 54.6875 \nL 54.296875 0 \nL 45.3125 0 \nL 45.3125 8.40625 \nQ 42.046875 3.421875 37.71875 1 \nQ 33.40625 -1.421875 27.6875 -1.421875 \nQ 18.265625 -1.421875 13.375 4.4375 \nQ 8.5 10.296875 8.5 21.578125 \nz\nM 31.109375 56 \nz\n\" id=\"DejaVuSans-117\"/>\n       <path d=\"M 2.984375 54.6875 \nL 12.5 54.6875 \nL 29.59375 8.796875 \nL 46.6875 54.6875 \nL 56.203125 54.6875 \nL 35.6875 0 \nL 23.484375 0 \nz\n\" id=\"DejaVuSans-118\"/>\n       <path d=\"M 9.421875 54.6875 \nL 18.40625 54.6875 \nL 18.40625 0 \nL 9.421875 0 \nz\nM 9.421875 75.984375 \nL 18.40625 75.984375 \nL 18.40625 64.59375 \nL 9.421875 64.59375 \nz\n\" id=\"DejaVuSans-105\"/>\n       <path d=\"M 45.40625 46.390625 \nL 45.40625 75.984375 \nL 54.390625 75.984375 \nL 54.390625 0 \nL 45.40625 0 \nL 45.40625 8.203125 \nQ 42.578125 3.328125 38.25 0.953125 \nQ 33.9375 -1.421875 27.875 -1.421875 \nQ 17.96875 -1.421875 11.734375 6.484375 \nQ 5.515625 14.40625 5.515625 27.296875 \nQ 5.515625 40.1875 11.734375 48.09375 \nQ 17.96875 56 27.875 56 \nQ 33.9375 56 38.25 53.625 \nQ 42.578125 51.265625 45.40625 46.390625 \nz\nM 14.796875 27.296875 \nQ 14.796875 17.390625 18.875 11.75 \nQ 22.953125 6.109375 30.078125 6.109375 \nQ 37.203125 6.109375 41.296875 11.75 \nQ 45.40625 17.390625 45.40625 27.296875 \nQ 45.40625 37.203125 41.296875 42.84375 \nQ 37.203125 48.484375 30.078125 48.484375 \nQ 22.953125 48.484375 18.875 42.84375 \nQ 14.796875 37.203125 14.796875 27.296875 \nz\n\" id=\"DejaVuSans-100\"/>\n      </defs>\n      <g transform=\"translate(599.229531 460.477656)scale(0.1 -0.1)\">\n       <use xlink:href=\"#DejaVuSans-112\"/>\n       <use x=\"63.476562\" xlink:href=\"#DejaVuSans-97\"/>\n       <use x=\"124.755859\" xlink:href=\"#DejaVuSans-115\"/>\n       <use x=\"176.855469\" xlink:href=\"#DejaVuSans-115\"/>\n       <use x=\"228.955078\" xlink:href=\"#DejaVuSans-101\"/>\n       <use x=\"290.478516\" xlink:href=\"#DejaVuSans-110\"/>\n       <use x=\"353.857422\" xlink:href=\"#DejaVuSans-103\"/>\n       <use x=\"417.333984\" xlink:href=\"#DejaVuSans-101\"/>\n       <use x=\"478.857422\" xlink:href=\"#DejaVuSans-114\"/>\n       <use x=\"519.970703\" xlink:href=\"#DejaVuSans-95\"/>\n       <use x=\"569.970703\" xlink:href=\"#DejaVuSans-115\"/>\n       <use x=\"622.070312\" xlink:href=\"#DejaVuSans-117\"/>\n       <use x=\"685.449219\" xlink:href=\"#DejaVuSans-114\"/>\n       <use x=\"726.5625\" xlink:href=\"#DejaVuSans-118\"/>\n       <use x=\"785.742188\" xlink:href=\"#DejaVuSans-105\"/>\n       <use x=\"813.525391\" xlink:href=\"#DejaVuSans-118\"/>\n       <use x=\"872.705078\" xlink:href=\"#DejaVuSans-101\"/>\n       <use x=\"934.228516\" xlink:href=\"#DejaVuSans-100\"/>\n      </g>\n     </g>\n    </g>\n   </g>\n   <g id=\"matplotlib.axis_2\">\n    <g id=\"ytick_1\">\n     <g id=\"line2d_5\">\n      <defs>\n       <path d=\"M 0 0 \nL -3.5 0 \n\" id=\"m519f5da9c1\" style=\"stroke:#000000;stroke-width:0.8;\"/>\n      </defs>\n      <g>\n       <use style=\"stroke:#000000;stroke-width:0.8;\" x=\"24.15625\" xlink:href=\"#m519f5da9c1\" y=\"65.359219\"/>\n      </g>\n     </g>\n     <g id=\"text_5\">\n      <!-- Age -->\n      <g transform=\"translate(15.076563 80.902188)rotate(-90)scale(0.1 -0.1)\">\n       <use xlink:href=\"#DejaVuSans-65\"/>\n       <use x=\"68.408203\" xlink:href=\"#DejaVuSans-103\"/>\n       <use x=\"131.884766\" xlink:href=\"#DejaVuSans-101\"/>\n      </g>\n     </g>\n    </g>\n    <g id=\"ytick_2\">\n     <g id=\"line2d_6\">\n      <g>\n       <use style=\"stroke:#000000;stroke-width:0.8;\" x=\"24.15625\" xlink:href=\"#m519f5da9c1\" y=\"174.079219\"/>\n      </g>\n     </g>\n     <g id=\"text_6\">\n      <!-- passenger_class -->\n      <g transform=\"translate(14.798438 252.101875)rotate(-90)scale(0.1 -0.1)\">\n       <use xlink:href=\"#DejaVuSans-112\"/>\n       <use x=\"63.476562\" xlink:href=\"#DejaVuSans-97\"/>\n       <use x=\"124.755859\" xlink:href=\"#DejaVuSans-115\"/>\n       <use x=\"176.855469\" xlink:href=\"#DejaVuSans-115\"/>\n       <use x=\"228.955078\" xlink:href=\"#DejaVuSans-101\"/>\n       <use x=\"290.478516\" xlink:href=\"#DejaVuSans-110\"/>\n       <use x=\"353.857422\" xlink:href=\"#DejaVuSans-103\"/>\n       <use x=\"417.333984\" xlink:href=\"#DejaVuSans-101\"/>\n       <use x=\"478.857422\" xlink:href=\"#DejaVuSans-114\"/>\n       <use x=\"519.970703\" xlink:href=\"#DejaVuSans-95\"/>\n       <use x=\"569.970703\" xlink:href=\"#DejaVuSans-99\"/>\n       <use x=\"624.951172\" xlink:href=\"#DejaVuSans-108\"/>\n       <use x=\"652.734375\" xlink:href=\"#DejaVuSans-97\"/>\n       <use x=\"714.013672\" xlink:href=\"#DejaVuSans-115\"/>\n       <use x=\"766.113281\" xlink:href=\"#DejaVuSans-115\"/>\n      </g>\n     </g>\n    </g>\n    <g id=\"ytick_3\">\n     <g id=\"line2d_7\">\n      <g>\n       <use style=\"stroke:#000000;stroke-width:0.8;\" x=\"24.15625\" xlink:href=\"#m519f5da9c1\" y=\"282.799219\"/>\n      </g>\n     </g>\n     <g id=\"text_7\">\n      <!-- passenger_sex -->\n      <g transform=\"translate(14.798438 353.24375)rotate(-90)scale(0.1 -0.1)\">\n       <use xlink:href=\"#DejaVuSans-112\"/>\n       <use x=\"63.476562\" xlink:href=\"#DejaVuSans-97\"/>\n       <use x=\"124.755859\" xlink:href=\"#DejaVuSans-115\"/>\n       <use x=\"176.855469\" xlink:href=\"#DejaVuSans-115\"/>\n       <use x=\"228.955078\" xlink:href=\"#DejaVuSans-101\"/>\n       <use x=\"290.478516\" xlink:href=\"#DejaVuSans-110\"/>\n       <use x=\"353.857422\" xlink:href=\"#DejaVuSans-103\"/>\n       <use x=\"417.333984\" xlink:href=\"#DejaVuSans-101\"/>\n       <use x=\"478.857422\" xlink:href=\"#DejaVuSans-114\"/>\n       <use x=\"519.970703\" xlink:href=\"#DejaVuSans-95\"/>\n       <use x=\"569.970703\" xlink:href=\"#DejaVuSans-115\"/>\n       <use x=\"622.070312\" xlink:href=\"#DejaVuSans-101\"/>\n       <use x=\"681.84375\" xlink:href=\"#DejaVuSans-120\"/>\n      </g>\n     </g>\n    </g>\n    <g id=\"ytick_4\">\n     <g id=\"line2d_8\">\n      <g>\n       <use style=\"stroke:#000000;stroke-width:0.8;\" x=\"24.15625\" xlink:href=\"#m519f5da9c1\" y=\"391.519219\"/>\n      </g>\n     </g>\n     <g id=\"text_8\">\n      <!-- passenger_survived -->\n      <g transform=\"translate(14.798438 487.493438)rotate(-90)scale(0.1 -0.1)\">\n       <use xlink:href=\"#DejaVuSans-112\"/>\n       <use x=\"63.476562\" xlink:href=\"#DejaVuSans-97\"/>\n       <use x=\"124.755859\" xlink:href=\"#DejaVuSans-115\"/>\n       <use x=\"176.855469\" xlink:href=\"#DejaVuSans-115\"/>\n       <use x=\"228.955078\" xlink:href=\"#DejaVuSans-101\"/>\n       <use x=\"290.478516\" xlink:href=\"#DejaVuSans-110\"/>\n       <use x=\"353.857422\" xlink:href=\"#DejaVuSans-103\"/>\n       <use x=\"417.333984\" xlink:href=\"#DejaVuSans-101\"/>\n       <use x=\"478.857422\" xlink:href=\"#DejaVuSans-114\"/>\n       <use x=\"519.970703\" xlink:href=\"#DejaVuSans-95\"/>\n       <use x=\"569.970703\" xlink:href=\"#DejaVuSans-115\"/>\n       <use x=\"622.070312\" xlink:href=\"#DejaVuSans-117\"/>\n       <use x=\"685.449219\" xlink:href=\"#DejaVuSans-114\"/>\n       <use x=\"726.5625\" xlink:href=\"#DejaVuSans-118\"/>\n       <use x=\"785.742188\" xlink:href=\"#DejaVuSans-105\"/>\n       <use x=\"813.525391\" xlink:href=\"#DejaVuSans-118\"/>\n       <use x=\"872.705078\" xlink:href=\"#DejaVuSans-101\"/>\n       <use x=\"934.228516\" xlink:href=\"#DejaVuSans-100\"/>\n      </g>\n     </g>\n    </g>\n   </g>\n   <g id=\"text_9\">\n    <!-- 1 -->\n    <defs>\n     <path d=\"M 12.40625 8.296875 \nL 28.515625 8.296875 \nL 28.515625 63.921875 \nL 10.984375 60.40625 \nL 10.984375 69.390625 \nL 28.421875 72.90625 \nL 38.28125 72.90625 \nL 38.28125 8.296875 \nL 54.390625 8.296875 \nL 54.390625 0 \nL 12.40625 0 \nz\n\" id=\"DejaVuSans-49\"/>\n    </defs>\n    <g style=\"fill:#ffffff;\" transform=\"translate(110.255 68.118594)scale(0.1 -0.1)\">\n     <use xlink:href=\"#DejaVuSans-49\"/>\n    </g>\n   </g>\n   <g id=\"text_10\">\n    <!-- 0.38 -->\n    <defs>\n     <path d=\"M 31.78125 66.40625 \nQ 24.171875 66.40625 20.328125 58.90625 \nQ 16.5 51.421875 16.5 36.375 \nQ 16.5 21.390625 20.328125 13.890625 \nQ 24.171875 6.390625 31.78125 6.390625 \nQ 39.453125 6.390625 43.28125 13.890625 \nQ 47.125 21.390625 47.125 36.375 \nQ 47.125 51.421875 43.28125 58.90625 \nQ 39.453125 66.40625 31.78125 66.40625 \nz\nM 31.78125 74.21875 \nQ 44.046875 74.21875 50.515625 64.515625 \nQ 56.984375 54.828125 56.984375 36.375 \nQ 56.984375 17.96875 50.515625 8.265625 \nQ 44.046875 -1.421875 31.78125 -1.421875 \nQ 19.53125 -1.421875 13.0625 8.265625 \nQ 6.59375 17.96875 6.59375 36.375 \nQ 6.59375 54.828125 13.0625 64.515625 \nQ 19.53125 74.21875 31.78125 74.21875 \nz\n\" id=\"DejaVuSans-48\"/>\n     <path d=\"M 10.6875 12.40625 \nL 21 12.40625 \nL 21 0 \nL 10.6875 0 \nz\n\" id=\"DejaVuSans-46\"/>\n     <path d=\"M 40.578125 39.3125 \nQ 47.65625 37.796875 51.625 33 \nQ 55.609375 28.21875 55.609375 21.1875 \nQ 55.609375 10.40625 48.1875 4.484375 \nQ 40.765625 -1.421875 27.09375 -1.421875 \nQ 22.515625 -1.421875 17.65625 -0.515625 \nQ 12.796875 0.390625 7.625 2.203125 \nL 7.625 11.71875 \nQ 11.71875 9.328125 16.59375 8.109375 \nQ 21.484375 6.890625 26.8125 6.890625 \nQ 36.078125 6.890625 40.9375 10.546875 \nQ 45.796875 14.203125 45.796875 21.1875 \nQ 45.796875 27.640625 41.28125 31.265625 \nQ 36.765625 34.90625 28.71875 34.90625 \nL 20.21875 34.90625 \nL 20.21875 43.015625 \nL 29.109375 43.015625 \nQ 36.375 43.015625 40.234375 45.921875 \nQ 44.09375 48.828125 44.09375 54.296875 \nQ 44.09375 59.90625 40.109375 62.90625 \nQ 36.140625 65.921875 28.71875 65.921875 \nQ 24.65625 65.921875 20.015625 65.03125 \nQ 15.375 64.15625 9.8125 62.3125 \nL 9.8125 71.09375 \nQ 15.4375 72.65625 20.34375 73.4375 \nQ 25.25 74.21875 29.59375 74.21875 \nQ 40.828125 74.21875 47.359375 69.109375 \nQ 53.90625 64.015625 53.90625 55.328125 \nQ 53.90625 49.265625 50.4375 45.09375 \nQ 46.96875 40.921875 40.578125 39.3125 \nz\n\" id=\"DejaVuSans-51\"/>\n     <path d=\"M 31.78125 34.625 \nQ 24.75 34.625 20.71875 30.859375 \nQ 16.703125 27.09375 16.703125 20.515625 \nQ 16.703125 13.921875 20.71875 10.15625 \nQ 24.75 6.390625 31.78125 6.390625 \nQ 38.8125 6.390625 42.859375 10.171875 \nQ 46.921875 13.96875 46.921875 20.515625 \nQ 46.921875 27.09375 42.890625 30.859375 \nQ 38.875 34.625 31.78125 34.625 \nz\nM 21.921875 38.8125 \nQ 15.578125 40.375 12.03125 44.71875 \nQ 8.5 49.078125 8.5 55.328125 \nQ 8.5 64.0625 14.71875 69.140625 \nQ 20.953125 74.21875 31.78125 74.21875 \nQ 42.671875 74.21875 48.875 69.140625 \nQ 55.078125 64.0625 55.078125 55.328125 \nQ 55.078125 49.078125 51.53125 44.71875 \nQ 48 40.375 41.703125 38.8125 \nQ 48.828125 37.15625 52.796875 32.3125 \nQ 56.78125 27.484375 56.78125 20.515625 \nQ 56.78125 9.90625 50.3125 4.234375 \nQ 43.84375 -1.421875 31.78125 -1.421875 \nQ 19.734375 -1.421875 13.25 4.234375 \nQ 6.78125 9.90625 6.78125 20.515625 \nQ 6.78125 27.484375 10.78125 32.3125 \nQ 14.796875 37.15625 21.921875 38.8125 \nz\nM 18.3125 54.390625 \nQ 18.3125 48.734375 21.84375 45.5625 \nQ 25.390625 42.390625 31.78125 42.390625 \nQ 38.140625 42.390625 41.71875 45.5625 \nQ 45.3125 48.734375 45.3125 54.390625 \nQ 45.3125 60.0625 41.71875 63.234375 \nQ 38.140625 66.40625 31.78125 66.40625 \nQ 25.390625 66.40625 21.84375 63.234375 \nQ 18.3125 60.0625 18.3125 54.390625 \nz\n\" id=\"DejaVuSans-56\"/>\n    </defs>\n    <g style=\"fill:#ffffff;\" transform=\"translate(280.863438 68.118594)scale(0.1 -0.1)\">\n     <use xlink:href=\"#DejaVuSans-48\"/>\n     <use x=\"63.623047\" xlink:href=\"#DejaVuSans-46\"/>\n     <use x=\"95.410156\" xlink:href=\"#DejaVuSans-51\"/>\n     <use x=\"159.033203\" xlink:href=\"#DejaVuSans-56\"/>\n    </g>\n   </g>\n   <g id=\"text_11\">\n    <!-- -0.14 -->\n    <defs>\n     <path d=\"M 4.890625 31.390625 \nL 31.203125 31.390625 \nL 31.203125 23.390625 \nL 4.890625 23.390625 \nz\n\" id=\"DejaVuSans-45\"/>\n     <path d=\"M 37.796875 64.3125 \nL 12.890625 25.390625 \nL 37.796875 25.390625 \nz\nM 35.203125 72.90625 \nL 47.609375 72.90625 \nL 47.609375 25.390625 \nL 58.015625 25.390625 \nL 58.015625 17.1875 \nL 47.609375 17.1875 \nL 47.609375 0 \nL 37.796875 0 \nL 37.796875 17.1875 \nL 4.890625 17.1875 \nL 4.890625 26.703125 \nz\n\" id=\"DejaVuSans-52\"/>\n    </defs>\n    <g style=\"fill:#262626;\" transform=\"translate(457.619531 68.118594)scale(0.1 -0.1)\">\n     <use xlink:href=\"#DejaVuSans-45\"/>\n     <use x=\"36.083984\" xlink:href=\"#DejaVuSans-48\"/>\n     <use x=\"99.707031\" xlink:href=\"#DejaVuSans-46\"/>\n     <use x=\"131.494141\" xlink:href=\"#DejaVuSans-49\"/>\n     <use x=\"195.117188\" xlink:href=\"#DejaVuSans-52\"/>\n    </g>\n   </g>\n   <g id=\"text_12\">\n    <!-- -0.15 -->\n    <defs>\n     <path d=\"M 10.796875 72.90625 \nL 49.515625 72.90625 \nL 49.515625 64.59375 \nL 19.828125 64.59375 \nL 19.828125 46.734375 \nQ 21.96875 47.46875 24.109375 47.828125 \nQ 26.265625 48.1875 28.421875 48.1875 \nQ 40.625 48.1875 47.75 41.5 \nQ 54.890625 34.8125 54.890625 23.390625 \nQ 54.890625 11.625 47.5625 5.09375 \nQ 40.234375 -1.421875 26.90625 -1.421875 \nQ 22.3125 -1.421875 17.546875 -0.640625 \nQ 12.796875 0.140625 7.71875 1.703125 \nL 7.71875 11.625 \nQ 12.109375 9.234375 16.796875 8.0625 \nQ 21.484375 6.890625 26.703125 6.890625 \nQ 35.15625 6.890625 40.078125 11.328125 \nQ 45.015625 15.765625 45.015625 23.390625 \nQ 45.015625 31 40.078125 35.4375 \nQ 35.15625 39.890625 26.703125 39.890625 \nQ 22.75 39.890625 18.8125 39.015625 \nQ 14.890625 38.140625 10.796875 36.28125 \nz\n\" id=\"DejaVuSans-53\"/>\n    </defs>\n    <g style=\"fill:#262626;\" transform=\"translate(636.179531 68.118594)scale(0.1 -0.1)\">\n     <use xlink:href=\"#DejaVuSans-45\"/>\n     <use x=\"36.083984\" xlink:href=\"#DejaVuSans-48\"/>\n     <use x=\"99.707031\" xlink:href=\"#DejaVuSans-46\"/>\n     <use x=\"131.494141\" xlink:href=\"#DejaVuSans-49\"/>\n     <use x=\"195.117188\" xlink:href=\"#DejaVuSans-53\"/>\n    </g>\n   </g>\n   <g id=\"text_13\">\n    <!-- 0.38 -->\n    <g style=\"fill:#ffffff;\" transform=\"translate(102.303438 176.838594)scale(0.1 -0.1)\">\n     <use xlink:href=\"#DejaVuSans-48\"/>\n     <use x=\"63.623047\" xlink:href=\"#DejaVuSans-46\"/>\n     <use x=\"95.410156\" xlink:href=\"#DejaVuSans-51\"/>\n     <use x=\"159.033203\" xlink:href=\"#DejaVuSans-56\"/>\n    </g>\n   </g>\n   <g id=\"text_14\">\n    <!-- 1 -->\n    <g style=\"fill:#ffffff;\" transform=\"translate(288.815 176.838594)scale(0.1 -0.1)\">\n     <use xlink:href=\"#DejaVuSans-49\"/>\n    </g>\n   </g>\n   <g id=\"text_15\">\n    <!-- 0.074 -->\n    <defs>\n     <path d=\"M 8.203125 72.90625 \nL 55.078125 72.90625 \nL 55.078125 68.703125 \nL 28.609375 0 \nL 18.3125 0 \nL 43.21875 64.59375 \nL 8.203125 64.59375 \nz\n\" id=\"DejaVuSans-55\"/>\n    </defs>\n    <g style=\"fill:#262626;\" transform=\"translate(456.242188 176.838594)scale(0.1 -0.1)\">\n     <use xlink:href=\"#DejaVuSans-48\"/>\n     <use x=\"63.623047\" xlink:href=\"#DejaVuSans-46\"/>\n     <use x=\"95.410156\" xlink:href=\"#DejaVuSans-48\"/>\n     <use x=\"159.033203\" xlink:href=\"#DejaVuSans-55\"/>\n     <use x=\"222.65625\" xlink:href=\"#DejaVuSans-52\"/>\n    </g>\n   </g>\n   <g id=\"text_16\">\n    <!-- 0.34 -->\n    <g style=\"fill:#ffffff;\" transform=\"translate(637.983438 176.838594)scale(0.1 -0.1)\">\n     <use xlink:href=\"#DejaVuSans-48\"/>\n     <use x=\"63.623047\" xlink:href=\"#DejaVuSans-46\"/>\n     <use x=\"95.410156\" xlink:href=\"#DejaVuSans-51\"/>\n     <use x=\"159.033203\" xlink:href=\"#DejaVuSans-52\"/>\n    </g>\n   </g>\n   <g id=\"text_17\">\n    <!-- -0.14 -->\n    <g style=\"fill:#262626;\" transform=\"translate(100.499531 285.558594)scale(0.1 -0.1)\">\n     <use xlink:href=\"#DejaVuSans-45\"/>\n     <use x=\"36.083984\" xlink:href=\"#DejaVuSans-48\"/>\n     <use x=\"99.707031\" xlink:href=\"#DejaVuSans-46\"/>\n     <use x=\"131.494141\" xlink:href=\"#DejaVuSans-49\"/>\n     <use x=\"195.117188\" xlink:href=\"#DejaVuSans-52\"/>\n    </g>\n   </g>\n   <g id=\"text_18\">\n    <!-- 0.074 -->\n    <g style=\"fill:#262626;\" transform=\"translate(277.682188 285.558594)scale(0.1 -0.1)\">\n     <use xlink:href=\"#DejaVuSans-48\"/>\n     <use x=\"63.623047\" xlink:href=\"#DejaVuSans-46\"/>\n     <use x=\"95.410156\" xlink:href=\"#DejaVuSans-48\"/>\n     <use x=\"159.033203\" xlink:href=\"#DejaVuSans-55\"/>\n     <use x=\"222.65625\" xlink:href=\"#DejaVuSans-52\"/>\n    </g>\n   </g>\n   <g id=\"text_19\">\n    <!-- 1 -->\n    <g style=\"fill:#ffffff;\" transform=\"translate(467.375 285.558594)scale(0.1 -0.1)\">\n     <use xlink:href=\"#DejaVuSans-49\"/>\n    </g>\n   </g>\n   <g id=\"text_20\">\n    <!-- 0.53 -->\n    <g style=\"fill:#ffffff;\" transform=\"translate(637.983438 285.558594)scale(0.1 -0.1)\">\n     <use xlink:href=\"#DejaVuSans-48\"/>\n     <use x=\"63.623047\" xlink:href=\"#DejaVuSans-46\"/>\n     <use x=\"95.410156\" xlink:href=\"#DejaVuSans-53\"/>\n     <use x=\"159.033203\" xlink:href=\"#DejaVuSans-51\"/>\n    </g>\n   </g>\n   <g id=\"text_21\">\n    <!-- -0.15 -->\n    <g style=\"fill:#262626;\" transform=\"translate(100.499531 394.278594)scale(0.1 -0.1)\">\n     <use xlink:href=\"#DejaVuSans-45\"/>\n     <use x=\"36.083984\" xlink:href=\"#DejaVuSans-48\"/>\n     <use x=\"99.707031\" xlink:href=\"#DejaVuSans-46\"/>\n     <use x=\"131.494141\" xlink:href=\"#DejaVuSans-49\"/>\n     <use x=\"195.117188\" xlink:href=\"#DejaVuSans-53\"/>\n    </g>\n   </g>\n   <g id=\"text_22\">\n    <!-- 0.34 -->\n    <g style=\"fill:#ffffff;\" transform=\"translate(280.863438 394.278594)scale(0.1 -0.1)\">\n     <use xlink:href=\"#DejaVuSans-48\"/>\n     <use x=\"63.623047\" xlink:href=\"#DejaVuSans-46\"/>\n     <use x=\"95.410156\" xlink:href=\"#DejaVuSans-51\"/>\n     <use x=\"159.033203\" xlink:href=\"#DejaVuSans-52\"/>\n    </g>\n   </g>\n   <g id=\"text_23\">\n    <!-- 0.53 -->\n    <g style=\"fill:#ffffff;\" transform=\"translate(459.423438 394.278594)scale(0.1 -0.1)\">\n     <use xlink:href=\"#DejaVuSans-48\"/>\n     <use x=\"63.623047\" xlink:href=\"#DejaVuSans-46\"/>\n     <use x=\"95.410156\" xlink:href=\"#DejaVuSans-53\"/>\n     <use x=\"159.033203\" xlink:href=\"#DejaVuSans-51\"/>\n    </g>\n   </g>\n   <g id=\"text_24\">\n    <!-- 1 -->\n    <g style=\"fill:#ffffff;\" transform=\"translate(645.935 394.278594)scale(0.1 -0.1)\">\n     <use xlink:href=\"#DejaVuSans-49\"/>\n    </g>\n   </g>\n  </g>\n  <g id=\"axes_2\">\n   <g id=\"patch_3\">\n    <path clip-path=\"url(#pe33ec7569f)\" d=\"M 783.03625 445.879219 \nL 783.03625 444.180469 \nL 783.03625 12.697969 \nL 783.03625 10.999219 \nL 804.78025 10.999219 \nL 804.78025 12.697969 \nL 804.78025 444.180469 \nL 804.78025 445.879219 \nz\n\" style=\"fill:#ffffff;stroke:#ffffff;stroke-linejoin:miter;stroke-width:0.01;\"/>\n   </g>\n   <image height=\"435\" id=\"image8efa47be24\" transform=\"scale(1 -1)translate(0 -435)\" width=\"22\" x=\"783\" xlink:href=\"data:image/png;base64,\niVBORw0KGgoAAAANSUhEUgAAABYAAAGzCAYAAAArEufSAAAABHNCSVQICAgIfAhkiAAAAilJREFUeJztnEGO5DAMA72D/P+te5lrMgcrdD7AQwFVDyAEipaVpNH/nt//zypwraeiu34qqmuta61OxUQreBWXmsfz2OaFZvNqwjgrgM3z5G1s3hF+bN7Aax6vYpsXeAeEaAWv4l7zKro27+B06wvbvNBs3l0R5llRrPjueEy0wrgNPI+JD5Clkwdsnjl+4c0KohW3cdsYt8Czghc3T17gVUxcsYDN0+NX2Fkx8OKmFYH3AEm0wrgNxi0Yt1C7TIlWGLcIu2INxi04KwKxec6Kwbh9hIHfmozbhuexcQu8uDnoAy9uxBw7K9rCPCuMWzBuweb1hXlW8OJGtMKKh17Fj3EbrPgj7J038ComWmHcBl7FRCuMW1uYZwXw0ybwt7HA17y0ip/el3SaFby4tY60VgTerLB5wVkRiv+LpRVD85YuCfOs4J08b+kXYNycbhHWihfedCOuWLyKbd5QW1h4t3Sz4pqwVmx4cQNacRu3CONWLF7ciBU7KzbOiq+wVmyIJ8/9eODFzSEUjFtw0Adk3FrCuI2+VDBwVlwlJ5pWlIR5zeN5fJV2QuDYbDbPWbEBVty6mmqpsHkBOStKwrdxG3hxI1qBi1tx0Hfw5AVg3HpvCju6xu3g03+w4iMMfEdfEi7e0iVh4F7B2+iBr3lbwjwrjNsR7ugCrTBuwbgF4/YV7mDzQs1j4EZv3F54HgO/Sxu3I9zR9YfNh+ag7wjzrODFjWdFTfgPDvr95uzzHFEAAAAASUVORK5CYII=\" y=\"-10\"/>\n   <g id=\"matplotlib.axis_3\"/>\n   <g id=\"matplotlib.axis_4\">\n    <g id=\"ytick_5\">\n     <g id=\"line2d_9\">\n      <defs>\n       <path d=\"M 0 0 \nL 3.5 0 \n\" id=\"m4408ed954d\" style=\"stroke:#000000;stroke-width:0.8;\"/>\n      </defs>\n      <g>\n       <use style=\"stroke:#000000;stroke-width:0.8;\" x=\"804.78025\" xlink:href=\"#m4408ed954d\" y=\"389.806977\"/>\n      </g>\n     </g>\n     <g id=\"text_25\">\n      <!-- 0.0 -->\n      <g transform=\"translate(811.78025 393.606195)scale(0.1 -0.1)\">\n       <use xlink:href=\"#DejaVuSans-48\"/>\n       <use x=\"63.623047\" xlink:href=\"#DejaVuSans-46\"/>\n       <use x=\"95.410156\" xlink:href=\"#DejaVuSans-48\"/>\n      </g>\n     </g>\n    </g>\n    <g id=\"ytick_6\">\n     <g id=\"line2d_10\">\n      <g>\n       <use style=\"stroke:#000000;stroke-width:0.8;\" x=\"804.78025\" xlink:href=\"#m4408ed954d\" y=\"314.045425\"/>\n      </g>\n     </g>\n     <g id=\"text_26\">\n      <!-- 0.2 -->\n      <defs>\n       <path d=\"M 19.1875 8.296875 \nL 53.609375 8.296875 \nL 53.609375 0 \nL 7.328125 0 \nL 7.328125 8.296875 \nQ 12.9375 14.109375 22.625 23.890625 \nQ 32.328125 33.6875 34.8125 36.53125 \nQ 39.546875 41.84375 41.421875 45.53125 \nQ 43.3125 49.21875 43.3125 52.78125 \nQ 43.3125 58.59375 39.234375 62.25 \nQ 35.15625 65.921875 28.609375 65.921875 \nQ 23.96875 65.921875 18.8125 64.3125 \nQ 13.671875 62.703125 7.8125 59.421875 \nL 7.8125 69.390625 \nQ 13.765625 71.78125 18.9375 73 \nQ 24.125 74.21875 28.421875 74.21875 \nQ 39.75 74.21875 46.484375 68.546875 \nQ 53.21875 62.890625 53.21875 53.421875 \nQ 53.21875 48.921875 51.53125 44.890625 \nQ 49.859375 40.875 45.40625 35.40625 \nQ 44.1875 33.984375 37.640625 27.21875 \nQ 31.109375 20.453125 19.1875 8.296875 \nz\n\" id=\"DejaVuSans-50\"/>\n      </defs>\n      <g transform=\"translate(811.78025 317.844644)scale(0.1 -0.1)\">\n       <use xlink:href=\"#DejaVuSans-48\"/>\n       <use x=\"63.623047\" xlink:href=\"#DejaVuSans-46\"/>\n       <use x=\"95.410156\" xlink:href=\"#DejaVuSans-50\"/>\n      </g>\n     </g>\n    </g>\n    <g id=\"ytick_7\">\n     <g id=\"line2d_11\">\n      <g>\n       <use style=\"stroke:#000000;stroke-width:0.8;\" x=\"804.78025\" xlink:href=\"#m4408ed954d\" y=\"238.283873\"/>\n      </g>\n     </g>\n     <g id=\"text_27\">\n      <!-- 0.4 -->\n      <g transform=\"translate(811.78025 242.083092)scale(0.1 -0.1)\">\n       <use xlink:href=\"#DejaVuSans-48\"/>\n       <use x=\"63.623047\" xlink:href=\"#DejaVuSans-46\"/>\n       <use x=\"95.410156\" xlink:href=\"#DejaVuSans-52\"/>\n      </g>\n     </g>\n    </g>\n    <g id=\"ytick_8\">\n     <g id=\"line2d_12\">\n      <g>\n       <use style=\"stroke:#000000;stroke-width:0.8;\" x=\"804.78025\" xlink:href=\"#m4408ed954d\" y=\"162.522322\"/>\n      </g>\n     </g>\n     <g id=\"text_28\">\n      <!-- 0.6 -->\n      <defs>\n       <path d=\"M 33.015625 40.375 \nQ 26.375 40.375 22.484375 35.828125 \nQ 18.609375 31.296875 18.609375 23.390625 \nQ 18.609375 15.53125 22.484375 10.953125 \nQ 26.375 6.390625 33.015625 6.390625 \nQ 39.65625 6.390625 43.53125 10.953125 \nQ 47.40625 15.53125 47.40625 23.390625 \nQ 47.40625 31.296875 43.53125 35.828125 \nQ 39.65625 40.375 33.015625 40.375 \nz\nM 52.59375 71.296875 \nL 52.59375 62.3125 \nQ 48.875 64.0625 45.09375 64.984375 \nQ 41.3125 65.921875 37.59375 65.921875 \nQ 27.828125 65.921875 22.671875 59.328125 \nQ 17.53125 52.734375 16.796875 39.40625 \nQ 19.671875 43.65625 24.015625 45.921875 \nQ 28.375 48.1875 33.59375 48.1875 \nQ 44.578125 48.1875 50.953125 41.515625 \nQ 57.328125 34.859375 57.328125 23.390625 \nQ 57.328125 12.15625 50.6875 5.359375 \nQ 44.046875 -1.421875 33.015625 -1.421875 \nQ 20.359375 -1.421875 13.671875 8.265625 \nQ 6.984375 17.96875 6.984375 36.375 \nQ 6.984375 53.65625 15.1875 63.9375 \nQ 23.390625 74.21875 37.203125 74.21875 \nQ 40.921875 74.21875 44.703125 73.484375 \nQ 48.484375 72.75 52.59375 71.296875 \nz\n\" id=\"DejaVuSans-54\"/>\n      </defs>\n      <g transform=\"translate(811.78025 166.321541)scale(0.1 -0.1)\">\n       <use xlink:href=\"#DejaVuSans-48\"/>\n       <use x=\"63.623047\" xlink:href=\"#DejaVuSans-46\"/>\n       <use x=\"95.410156\" xlink:href=\"#DejaVuSans-54\"/>\n      </g>\n     </g>\n    </g>\n    <g id=\"ytick_9\">\n     <g id=\"line2d_13\">\n      <g>\n       <use style=\"stroke:#000000;stroke-width:0.8;\" x=\"804.78025\" xlink:href=\"#m4408ed954d\" y=\"86.76077\"/>\n      </g>\n     </g>\n     <g id=\"text_29\">\n      <!-- 0.8 -->\n      <g transform=\"translate(811.78025 90.559989)scale(0.1 -0.1)\">\n       <use xlink:href=\"#DejaVuSans-48\"/>\n       <use x=\"63.623047\" xlink:href=\"#DejaVuSans-46\"/>\n       <use x=\"95.410156\" xlink:href=\"#DejaVuSans-56\"/>\n      </g>\n     </g>\n    </g>\n    <g id=\"ytick_10\">\n     <g id=\"line2d_14\">\n      <g>\n       <use style=\"stroke:#000000;stroke-width:0.8;\" x=\"804.78025\" xlink:href=\"#m4408ed954d\" y=\"10.999219\"/>\n      </g>\n     </g>\n     <g id=\"text_30\">\n      <!-- 1.0 -->\n      <g transform=\"translate(811.78025 14.798438)scale(0.1 -0.1)\">\n       <use xlink:href=\"#DejaVuSans-49\"/>\n       <use x=\"63.623047\" xlink:href=\"#DejaVuSans-46\"/>\n       <use x=\"95.410156\" xlink:href=\"#DejaVuSans-48\"/>\n      </g>\n     </g>\n    </g>\n   </g>\n   <g id=\"patch_4\">\n    <path d=\"M 783.03625 445.879219 \nL 783.03625 444.180469 \nL 783.03625 12.697969 \nL 783.03625 10.999219 \nL 804.78025 10.999219 \nL 804.78025 12.697969 \nL 804.78025 444.180469 \nL 804.78025 445.879219 \nz\n\" style=\"fill:none;\"/>\n   </g>\n  </g>\n </g>\n <defs>\n  <clipPath id=\"p00ce3af9e1\">\n   <rect height=\"434.88\" width=\"714.24\" x=\"24.15625\" y=\"10.999219\"/>\n  </clipPath>\n  <clipPath id=\"pe33ec7569f\">\n   <rect height=\"434.88\" width=\"21.744\" x=\"783.03625\" y=\"10.999219\"/>\n  </clipPath>\n </defs>\n</svg>\n",
      "image/png": "[encoded data removed]"
     },
     "metadata": {
      "needs_background": "light"
     }
    }
   ],
   "source": [
    "corr = trainData.corrwith(trainData[\"passenger_survived\"])\n",
    "\n",
    "plt.figure(figsize=(16, 8))\n",
    "sns.heatmap(trainData.corr(), cmap=\"Reds\", annot=True)\n",
    "\n",
    "corr.to_frame().T"
   ]
  },
  {
   "cell_type": "markdown",
   "metadata": {},
   "source": [
    "## Naive Bayes"
   ]
  },
  {
   "cell_type": "code",
   "execution_count": 66,
   "metadata": {},
   "outputs": [],
   "source": [
    "def naiveBayes(df, yLabel, xPredict):\n",
    "    n = df[yLabel].shape[0]\n",
    "    nPredict = xPredict.shape[0]\n",
    "    yUnique = df[yLabel].unique()\n",
    "\n",
    "    means = df.groupby(yLabel).mean()\n",
    "    stds = df.groupby(yLabel).std()\n",
    "\n",
    "    classProbabilities = df.groupby(yLabel).apply(lambda x: len(x)) / n\n",
    "\n",
    "    probabilities = np.zeros((len(yUnique), nPredict))\n",
    "    for class_ in yUnique:\n",
    "        mean = means.iloc[class_].to_numpy()\n",
    "        std = stds.iloc[class_].to_numpy()\n",
    "\n",
    "        varsProbabilities = (1 / (sqrt(2 * np.pi) * std)) * np.exp(-((xPredict - mean) ** 2 / (2 * std ** 2)))\n",
    "        probabilities[class_] = classProbabilities[class_] * np.product(varsProbabilities, axis = 1)\n",
    "\n",
    "    return np.argmax(probabilities.T, axis = 1)"
   ]
  },
  {
   "cell_type": "code",
   "execution_count": 87,
   "metadata": {
    "tags": []
   },
   "outputs": [
    {
     "output_type": "execute_result",
     "data": {
      "text/plain": "array([0, 0, 0, 1, 0, 0, 1, 0, 0, 1, 0, 0, 1, 1, 1, 0, 1, 1, 0, 0, 0, 0,\n       0, 1, 1, 1, 0, 0, 0, 1, 1, 0, 0, 0, 0, 1, 0, 0, 0, 0, 0, 0, 0, 1,\n       0, 1, 0, 0, 0, 0, 0, 0, 1, 1, 1, 0, 0, 1, 0, 0, 0, 0, 0, 0, 1, 1,\n       1, 0, 1, 0, 0, 1, 0, 0, 0, 1, 0, 0, 0, 0, 1, 1, 0, 0, 1, 0, 0, 1,\n       0, 0, 1, 1, 1, 1, 0, 1, 1, 0, 0, 1, 1, 0, 0, 0, 0, 0, 0, 0, 0, 1,\n       0, 0, 0, 1, 1, 0, 0, 1, 0, 1, 0, 1, 0, 0, 0, 1, 1, 0, 0, 0, 0, 1,\n       1, 1, 0, 0, 1, 0, 0, 1, 1, 1, 0])"
     },
     "metadata": {},
     "execution_count": 87
    }
   ],
   "source": [
    "xTest = validationData[[\"passenger_sex\"]].to_numpy()\n",
    "yTest = validationData[\"passenger_survived\"].to_numpy()\n",
    "\n",
    "xTrain = trainData[[\"passenger_sex\", \"passenger_survived\"]]\n",
    "\n",
    "yPredict = naiveBayes(xTrain, \"passenger_survived\", xTest)\n",
    "\n",
    "yPredict"
   ]
  },
  {
   "cell_type": "code",
   "execution_count": 88,
   "metadata": {},
   "outputs": [
    {
     "output_type": "execute_result",
     "data": {
      "text/plain": "0.7832167832167832"
     },
     "metadata": {},
     "execution_count": 88
    }
   ],
   "source": [
    "    accuracy_score(yTest, yPredict)"
   ]
  },
  {
   "cell_type": "markdown",
   "metadata": {},
   "source": [
    "## Decision Tree"
   ]
  },
  {
   "cell_type": "code",
   "execution_count": 90,
   "metadata": {},
   "outputs": [
    {
     "output_type": "execute_result",
     "data": {
      "text/plain": "array([0, 0, 0, 1, 0, 0, 1, 0, 0, 1, 0, 0, 1, 1, 1, 0, 1, 1, 0, 0, 0, 0,\n       0, 1, 1, 1, 0, 0, 0, 1, 1, 0, 0, 0, 0, 1, 0, 0, 0, 0, 0, 0, 0, 1,\n       0, 1, 0, 0, 0, 0, 0, 0, 1, 1, 1, 0, 0, 1, 0, 0, 0, 0, 0, 0, 1, 1,\n       1, 0, 1, 0, 0, 1, 0, 0, 0, 1, 0, 0, 0, 0, 1, 1, 0, 0, 1, 0, 0, 1,\n       0, 0, 1, 1, 1, 1, 0, 1, 1, 0, 0, 1, 1, 0, 0, 0, 0, 0, 0, 0, 0, 1,\n       0, 0, 0, 1, 1, 0, 0, 1, 0, 1, 0, 1, 0, 0, 0, 1, 1, 0, 0, 0, 0, 1,\n       1, 1, 0, 0, 1, 0, 0, 1, 1, 1, 0])"
     },
     "metadata": {},
     "execution_count": 90
    }
   ],
   "source": [
    "tree = DecisionTreeClassifier()\n",
    "tree = tree.fit(xTrain[[\"passenger_sex\"]], xTrain[[\"passenger_survived\"]])\n",
    "yTree = tree.predict(xTest)\n",
    "\n",
    "yTree"
   ]
  },
  {
   "cell_type": "code",
   "execution_count": 91,
   "metadata": {},
   "outputs": [
    {
     "output_type": "execute_result",
     "data": {
      "text/plain": "0.7832167832167832"
     },
     "metadata": {},
     "execution_count": 91
    }
   ],
   "source": [
    "accuracy_score(yTest, yTree)"
   ]
  },
  {
   "cell_type": "code",
   "execution_count": 93,
   "metadata": {},
   "outputs": [
    {
     "output_type": "execute_result",
     "data": {
      "text/plain": "<graphviz.files.Source at 0x15ea256d0>",
      "image/svg+xml": "<?xml version=\"1.0\" encoding=\"UTF-8\" standalone=\"no\"?>\n<!DOCTYPE svg PUBLIC \"-//W3C//DTD SVG 1.1//EN\"\n \"http://www.w3.org/Graphics/SVG/1.1/DTD/svg11.dtd\">\n<!-- Generated by graphviz version 2.44.0 (20200408.0750)\n -->\n<!-- Title: Tree Pages: 1 -->\n<svg width=\"260pt\" height=\"195pt\"\n viewBox=\"0.00 0.00 260.00 195.00\" xmlns=\"http://www.w3.org/2000/svg\" xmlns:xlink=\"http://www.w3.org/1999/xlink\">\n<g id=\"graph0\" class=\"graph\" transform=\"scale(1 1) rotate(0) translate(4 191)\">\n<title>Tree</title>\n<polygon fill=\"white\" stroke=\"transparent\" points=\"-4,4 -4,-191 256,-191 256,4 -4,4\"/>\n<!-- 0 -->\n<g id=\"node1\" class=\"node\">\n<title>0</title>\n<path fill=\"#f5cfb4\" stroke=\"black\" d=\"M184.5,-187C184.5,-187 66.5,-187 66.5,-187 60.5,-187 54.5,-181 54.5,-175 54.5,-175 54.5,-116 54.5,-116 54.5,-110 60.5,-104 66.5,-104 66.5,-104 184.5,-104 184.5,-104 190.5,-104 196.5,-110 196.5,-116 196.5,-116 196.5,-175 196.5,-175 196.5,-181 190.5,-187 184.5,-187\"/>\n<text text-anchor=\"start\" x=\"62.5\" y=\"-171.8\" font-family=\"Helvetica,sans-Serif\" font-size=\"14.00\">passenger_sex ≤ 0.5</text>\n<text text-anchor=\"start\" x=\"90\" y=\"-156.8\" font-family=\"Helvetica,sans-Serif\" font-size=\"14.00\">gini = 0.473</text>\n<text text-anchor=\"start\" x=\"80.5\" y=\"-141.8\" font-family=\"Helvetica,sans-Serif\" font-size=\"14.00\">samples = 569</text>\n<text text-anchor=\"start\" x=\"71\" y=\"-126.8\" font-family=\"Helvetica,sans-Serif\" font-size=\"14.00\">value = [351, 218]</text>\n<text text-anchor=\"start\" x=\"87\" y=\"-111.8\" font-family=\"Helvetica,sans-Serif\" font-size=\"14.00\">class = dead</text>\n</g>\n<!-- 1 -->\n<g id=\"node2\" class=\"node\">\n<title>1</title>\n<path fill=\"#eb9f69\" stroke=\"black\" d=\"M105,-68C105,-68 12,-68 12,-68 6,-68 0,-62 0,-56 0,-56 0,-12 0,-12 0,-6 6,0 12,0 12,0 105,0 105,0 111,0 117,-6 117,-12 117,-12 117,-56 117,-56 117,-62 111,-68 105,-68\"/>\n<text text-anchor=\"start\" x=\"23\" y=\"-52.8\" font-family=\"Helvetica,sans-Serif\" font-size=\"14.00\">gini = 0.313</text>\n<text text-anchor=\"start\" x=\"13.5\" y=\"-37.8\" font-family=\"Helvetica,sans-Serif\" font-size=\"14.00\">samples = 370</text>\n<text text-anchor=\"start\" x=\"8\" y=\"-22.8\" font-family=\"Helvetica,sans-Serif\" font-size=\"14.00\">value = [298, 72]</text>\n<text text-anchor=\"start\" x=\"20\" y=\"-7.8\" font-family=\"Helvetica,sans-Serif\" font-size=\"14.00\">class = dead</text>\n</g>\n<!-- 0&#45;&gt;1 -->\n<g id=\"edge1\" class=\"edge\">\n<title>0&#45;&gt;1</title>\n<path fill=\"none\" stroke=\"black\" d=\"M100.55,-103.73C95.19,-94.97 89.52,-85.7 84.14,-76.91\"/>\n<polygon fill=\"black\" stroke=\"black\" points=\"87.08,-75 78.88,-68.3 81.11,-78.66 87.08,-75\"/>\n<text text-anchor=\"middle\" x=\"73.02\" y=\"-88.9\" font-family=\"Helvetica,sans-Serif\" font-size=\"14.00\">True</text>\n</g>\n<!-- 2 -->\n<g id=\"node3\" class=\"node\">\n<title>2</title>\n<path fill=\"#81c1ee\" stroke=\"black\" d=\"M240,-68C240,-68 147,-68 147,-68 141,-68 135,-62 135,-56 135,-56 135,-12 135,-12 135,-6 141,0 147,0 147,0 240,0 240,0 246,0 252,-6 252,-12 252,-12 252,-56 252,-56 252,-62 246,-68 240,-68\"/>\n<text text-anchor=\"start\" x=\"158\" y=\"-52.8\" font-family=\"Helvetica,sans-Serif\" font-size=\"14.00\">gini = 0.391</text>\n<text text-anchor=\"start\" x=\"148.5\" y=\"-37.8\" font-family=\"Helvetica,sans-Serif\" font-size=\"14.00\">samples = 199</text>\n<text text-anchor=\"start\" x=\"143\" y=\"-22.8\" font-family=\"Helvetica,sans-Serif\" font-size=\"14.00\">value = [53, 146]</text>\n<text text-anchor=\"start\" x=\"156\" y=\"-7.8\" font-family=\"Helvetica,sans-Serif\" font-size=\"14.00\">class = alive</text>\n</g>\n<!-- 0&#45;&gt;2 -->\n<g id=\"edge2\" class=\"edge\">\n<title>0&#45;&gt;2</title>\n<path fill=\"none\" stroke=\"black\" d=\"M150.82,-103.73C156.26,-94.97 162.01,-85.7 167.48,-76.91\"/>\n<polygon fill=\"black\" stroke=\"black\" points=\"170.52,-78.64 172.82,-68.3 164.57,-74.95 170.52,-78.64\"/>\n<text text-anchor=\"middle\" x=\"178.51\" y=\"-88.94\" font-family=\"Helvetica,sans-Serif\" font-size=\"14.00\">False</text>\n</g>\n</g>\n</svg>\n"
     },
     "metadata": {},
     "execution_count": 93
    }
   ],
   "source": [
    "dot_data = export_graphviz(tree, out_file=None,\n",
    "                                        feature_names=[\"passenger_sex\"],\n",
    "                                        class_names=[\"dead\", \"alive\"],\n",
    "                                        filled=True, rounded=True,\n",
    "                                        special_characters=True)\n",
    "graph = graphviz.Source(dot_data)\n",
    "graph"
   ]
  },
  {
   "cell_type": "markdown",
   "metadata": {},
   "source": [
    "## SVM"
   ]
  },
  {
   "cell_type": "code",
   "execution_count": 94,
   "metadata": {},
   "outputs": [
    {
     "output_type": "execute_result",
     "data": {
      "text/plain": "array([0, 0, 0, 1, 0, 0, 1, 0, 0, 1, 0, 0, 1, 1, 1, 0, 1, 1, 0, 0, 0, 0,\n       0, 1, 1, 1, 0, 0, 0, 1, 1, 0, 0, 0, 0, 1, 0, 0, 0, 0, 0, 0, 0, 1,\n       0, 1, 0, 0, 0, 0, 0, 0, 1, 1, 1, 0, 0, 1, 0, 0, 0, 0, 0, 0, 1, 1,\n       1, 0, 1, 0, 0, 1, 0, 0, 0, 1, 0, 0, 0, 0, 1, 1, 0, 0, 1, 0, 0, 1,\n       0, 0, 1, 1, 1, 1, 0, 1, 1, 0, 0, 1, 1, 0, 0, 0, 0, 0, 0, 0, 0, 1,\n       0, 0, 0, 1, 1, 0, 0, 1, 0, 1, 0, 1, 0, 0, 0, 1, 1, 0, 0, 0, 0, 1,\n       1, 1, 0, 0, 1, 0, 0, 1, 1, 1, 0])"
     },
     "metadata": {},
     "execution_count": 94
    }
   ],
   "source": [
    "svm = SVC(kernel = 'linear')\n",
    "\n",
    "# svm = svm.fit(df[[\"weather_encoded\", \"temp_encoded\"]], df['Y'])\n",
    "# ySvm = svm.predict(x_test)\n",
    "svm = svm.fit(xTrain[[\"passenger_sex\"]], xTrain[[\"passenger_survived\"]])\n",
    "ySvm = tree.predict(xTest)\n",
    "\n",
    "ySvm"
   ]
  },
  {
   "cell_type": "code",
   "execution_count": 95,
   "metadata": {},
   "outputs": [
    {
     "output_type": "execute_result",
     "data": {
      "text/plain": "0.7832167832167832"
     },
     "metadata": {},
     "execution_count": 95
    }
   ],
   "source": [
    "accuracy_score(yTest, ySvm)"
   ]
  },
  {
   "cell_type": "code",
   "execution_count": 100,
   "metadata": {},
   "outputs": [],
   "source": [
    "def logisticRegression(x, y, epochs, lr, batchSize, regularization, beta, modelName, printRate):\n",
    "    tf.reset_default_graph()\n",
    "    \n",
    "    n = x.shape[0]\n",
    "\n",
    "    totalIterations = int(n / batchSize)\n",
    "    x = np.hstack((x, np.ones((n, 1))))\n",
    "    y = y.reshape(-1, 1)\n",
    "\n",
    "    vars_ = x.shape[1]\n",
    "\n",
    "    with tf.name_scope(\"intup\"):\n",
    "        xTrain = tf.placeholder(tf.float32, [batchSize, vars_], \"x\")\n",
    "        yTrain = tf.placeholder(tf.float32, [batchSize, 1], \"y\")\n",
    "    with tf.name_scope(\"params\"):\n",
    "        params = tf.Variable(name = \"params\", initial_value = tf.zeros(([vars_, 1]), dtype = tf.float32))\n",
    "    with tf.name_scope(\"logits\"):\n",
    "        logits = tf.matmul(xTrain, params)\n",
    "    with tf.name_scope(\"loss\"):\n",
    "        loss = tf.reduce_mean(tf.nn.sigmoid_cross_entropy_with_logits(logits = logits, labels = yTrain))\n",
    "    with tf.name_scope(\"gradient\"):\n",
    "        gradients = tf.gradients(loss, params)\n",
    "    with tf.name_scope(\"model\"):\n",
    "        fit = tf.scalar_mul(-lr, gradients[0])\n",
    "        model = tf.assign(params, tf.add(params, fit))\n",
    "\n",
    "\n",
    "    with tf.Session() as session:\n",
    "        writer = tf.summary.FileWriter(\"./\" + modelName + \"/\" + datetime.datetime.now().strftime(\"%Y%m%d-%H%M%S\") + \"_lr=\" + str(lr) + \"_epochs=\" + str(epochs), session.graph)\n",
    "        session.run(tf.global_variables_initializer())\n",
    "        \n",
    "        for epoch in range(epochs):\n",
    "            for i in range(totalIterations):\n",
    "                start = i * batchSize\n",
    "                end = start + batchSize\n",
    "                \n",
    "                x_ = np.array(x[start:end])\n",
    "                y_ = np.array(y[start:end])\n",
    "                \n",
    "                feedDict = {xTrain: x_, yTrain: y_}\n",
    "                session.run(model, feed_dict = feedDict)\n",
    "\n",
    "            if ((epoch + 1) % printRate) == 0:\n",
    "                print(\"error: \" + str(session.run(loss, feed_dict = feedDict)))\n",
    "      \n",
    "            #writer.add_summary(session.run(summary), epoch)\n",
    "\n",
    "        params = session.run(params)\n",
    "\n",
    "        writer.close()\n",
    "    session.close()\n",
    "\n",
    "    return params"
   ]
  },
  {
   "cell_type": "code",
   "execution_count": 101,
   "metadata": {
    "tags": []
   },
   "outputs": [
    {
     "output_type": "stream",
     "name": "stdout",
     "text": "error: 1.1962279\nerror: 1.1962279\nerror: 1.1962279\n"
    },
    {
     "output_type": "execute_result",
     "data": {
      "text/plain": "array([[ 2.4637177],\n       [-1.313284 ]], dtype=float32)"
     },
     "metadata": {},
     "execution_count": 101
    }
   ],
   "source": [
    "coeficients = logisticRegression(x = xTrain[[\"passenger_sex\"]].to_numpy(), y = xTrain[[\"passenger_survived\"]].to_numpy(), epochs = 3000, lr = 0.2, batchSize = 8, regularization = 0, beta = 0, modelName = \"titanic\", printRate = 1000)\n",
    "coeficients"
   ]
  },
  {
   "cell_type": "code",
   "execution_count": 112,
   "metadata": {},
   "outputs": [],
   "source": [
    "def predictLogisticRegression(x, coeficients):\n",
    "    tf.reset_default_graph()\n",
    "    \n",
    "    x = np.hstack((x, np.ones((x.shape[0], 1))))\n",
    "    x_ = tf.placeholder(tf.float32, [x.shape[0], None], \"x\")\n",
    "    \n",
    "    with tf.Session() as session:\n",
    "        prediction = session.run(tf.cast(tf.nn.sigmoid(tf.matmul(x_, coeficients)) > 0.5, tf.int32), feed_dict={x_: x})\n",
    "        \n",
    "        session.close()\n",
    "    return prediction"
   ]
  },
  {
   "cell_type": "code",
   "execution_count": 113,
   "metadata": {
    "tags": []
   },
   "outputs": [],
   "source": [
    "yLogistic = predictLogisticRegression(xTest, coeficients)"
   ]
  },
  {
   "cell_type": "code",
   "execution_count": 114,
   "metadata": {},
   "outputs": [
    {
     "output_type": "execute_result",
     "data": {
      "text/plain": "0.7832167832167832"
     },
     "metadata": {},
     "execution_count": 114
    }
   ],
   "source": [
    "accuracy_score(yTest, yLogistic)"
   ]
  },
  {
   "cell_type": "code",
   "execution_count": null,
   "metadata": {},
   "outputs": [],
   "source": []
  }
 ],
 "metadata": {
  "language_info": {
   "codemirror_mode": {
    "name": "ipython",
    "version": 3
   },
   "file_extension": ".py",
   "mimetype": "text/x-python",
   "name": "python",
   "nbconvert_exporter": "python",
   "pygments_lexer": "ipython3",
   "version": "3.7.6-final"
  },
  "orig_nbformat": 2,
  "kernelspec": {
   "name": "python37664bit25ff02b8b39f43fa8dfa2f3e10da236a",
   "display_name": "Python 3.7.6 64-bit"
  }
 },
 "nbformat": 4,
 "nbformat_minor": 2
}